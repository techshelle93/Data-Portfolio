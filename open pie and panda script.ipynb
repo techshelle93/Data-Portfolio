{
 "cells": [
  {
   "cell_type": "code",
   "execution_count": 1,
   "id": "390f4f09",
   "metadata": {},
   "outputs": [
    {
     "name": "stdout",
     "output_type": "stream",
     "text": [
      "                                                  Name   Price Body.Location  \\\n",
      "0    Barska GB12166 Fitness Watch with Heart Rate M...   49.99         Wrist   \n",
      "1      Belkin GS5 Sport Fit Armband, Black F8M918B1C00   24.99          Arms   \n",
      "2    Bowflex EZ Pro Strapless Heart Rate Monitor Wa...   12.99         Wrist   \n",
      "3           Casio G Shock Watch Solar Atom (gwm500a-1)   67.62         Wrist   \n",
      "4    Casio WS220 Solar Runner Digital Wrist Watch; ...   39.99         Wrist   \n",
      "..                                                 ...     ...           ...   \n",
      "577         X-doria KidFit / Health and Fitness - Blue   39.00         Wrist   \n",
      "578     Yes Watch KUNDALINI WTCH w/MIRROR POLISH FINSH  850.00         Wrist   \n",
      "579  YOO1 Activity Tracker with Trackit Jacket, Ras...   24.99         Waist   \n",
      "580                        Zepp Golf 3D Swing Analyzer     NaN         Hands   \n",
      "581     Zoombak ZMBK346 Advanced GPS Universal Locator     NaN         Waist   \n",
      "\n",
      "      Category Company.Name                             Company.URL  \\\n",
      "0      Fitness       Barska                  http://www.barska.com/   \n",
      "1      Fitness       Belkin                  http://www.belkin.com/   \n",
      "2      Medical      Bowflex                 http://www.bowflex.com/   \n",
      "3    Lifestyle        Casio                    http://www.casio.com   \n",
      "4    Lifestyle        Casio                    http://www.casio.com   \n",
      "..         ...          ...                                     ...   \n",
      "577    Fitness      X-Doria                http://shop.x-doria.com/   \n",
      "578  Lifestyle          Yes                http://www.yeswatch.com/   \n",
      "579  Lifestyle          Yoo            http://www.yoochallenge.com/   \n",
      "580     Gaming         Zepp                    http://www.zepp.com/   \n",
      "581  Lifestyle      Zoombak  http://www.securusgps.com/zoombak.aspx   \n",
      "\n",
      "                 Company...Mapping.Location Company...City  \\\n",
      "0         Pomona, California, United States         Pomona   \n",
      "1    Playa Vista, California, United States    Playa Vista   \n",
      "2      Vancouver, Washington, United States      Vancouver   \n",
      "3                              Tokyo, Japan          Tokyo   \n",
      "4                              Tokyo, Japan          Tokyo   \n",
      "..                                      ...            ...   \n",
      "577  Los Angeles, California, United States    Los Angeles   \n",
      "578     La Jolla, California, United States       La Jolla   \n",
      "579  Ridgefield, Connecticut, United States     Ridgefield   \n",
      "580    Los Gatos, California, United States      Los Gatos   \n",
      "581     Cary, North Carolina, United States           Cary   \n",
      "\n",
      "    Company...U.S..State Company...Country          Source  \\\n",
      "0             California     United States  Google Results   \n",
      "1             California     United States  Google Results   \n",
      "2             Washington     United States  Google Results   \n",
      "3                    NaN             Japan  Google Results   \n",
      "4                    NaN             Japan  Google Results   \n",
      "..                   ...               ...             ...   \n",
      "577           California     United States  Google Results   \n",
      "578           California     United States  Google Results   \n",
      "579          Connecticut     United States  Google Results   \n",
      "580           California     United States          Amazon   \n",
      "581       North Carolina     United States          Amazon   \n",
      "\n",
      "                                                  Link  Duplicates.note.1  \\\n",
      "0    https://www.google.com/shopping/product/104462...                NaN   \n",
      "1    https://www.google.com/shopping/product/532655...                NaN   \n",
      "2    https://www.google.com/shopping/product/147942...                NaN   \n",
      "3    https://www.google.com/shopping/product/393252...                NaN   \n",
      "4    https://www.google.com/shopping/product/316195...                NaN   \n",
      "..                                                 ...                ...   \n",
      "577  https://www.google.com/shopping/product/536130...                NaN   \n",
      "578  http://www.google.com/aclk?sa=l&ai=C-jKZfA92VL...                NaN   \n",
      "579  https://www.google.com/shopping/product/390577...                NaN   \n",
      "580  http://www.amazon.com/Zepp-Golf-3D-Swing-Analy...                NaN   \n",
      "581  http://www.amazon.com/Zoombak-ZMBK346-Advanced...                NaN   \n",
      "\n",
      "      id                                              Image  \n",
      "0    200  data:image/jpeg;base64,/9j/4AAQSkZJRgABAQAAAQA...  \n",
      "1    129  data:image/jpeg;base64,/9j/4AAQSkZJRgABAQAAAQA...  \n",
      "2    284  data:image/jpeg;base64,/9j/4AAQSkZJRgABAQAAAQA...  \n",
      "3    145  data:image/jpeg;base64,/9j/4AAQSkZJRgABAQAAAQA...  \n",
      "4    177  data:image/jpeg;base64,/9j/4AAQSkZJRgABAQAAAQA...  \n",
      "..   ...                                                ...  \n",
      "577  406  data:image/jpeg;base64,/9j/4AAQSkZJRgABAQAAAQA...  \n",
      "578  555  data:image/jpeg;base64,/9j/4AAQSkZJRgABAQAAAQA...  \n",
      "579  365  data:image/jpeg;base64,/9j/4AAQSkZJRgABAQAAAQA...  \n",
      "580  176  http://ecx.images-amazon.com/images/I/41-xwy5M...  \n",
      "581  143  http://ecx.images-amazon.com/images/I/416a2g5z...  \n",
      "\n",
      "[582 rows x 15 columns]\n"
     ]
    }
   ],
   "source": [
    "import pandas as pd\n",
    "\n",
    "data = pd.read_excel(r\"C:\\Users\\avery\\PycharmProjects\\Data-Portfolio\\wearables.xlsx\")\n",
    "\n",
    "print(data)"
   ]
  },
  {
   "cell_type": "code",
   "execution_count": 3,
   "id": "50549a2c",
   "metadata": {},
   "outputs": [
    {
     "name": "stdout",
     "output_type": "stream",
     "text": [
      "                                                Name  Price Body.Location  \\\n",
      "0  Barska GB12166 Fitness Watch with Heart Rate M...  49.99         Wrist   \n",
      "1    Belkin GS5 Sport Fit Armband, Black F8M918B1C00  24.99          Arms   \n",
      "2  Bowflex EZ Pro Strapless Heart Rate Monitor Wa...  12.99         Wrist   \n",
      "3         Casio G Shock Watch Solar Atom (gwm500a-1)  67.62         Wrist   \n",
      "4  Casio WS220 Solar Runner Digital Wrist Watch; ...  39.99         Wrist   \n",
      "\n",
      "    Category Company.Name              Company.URL  \\\n",
      "0    Fitness       Barska   http://www.barska.com/   \n",
      "1    Fitness       Belkin   http://www.belkin.com/   \n",
      "2    Medical      Bowflex  http://www.bowflex.com/   \n",
      "3  Lifestyle        Casio     http://www.casio.com   \n",
      "4  Lifestyle        Casio     http://www.casio.com   \n",
      "\n",
      "               Company...Mapping.Location Company...City Company...U.S..State  \\\n",
      "0       Pomona, California, United States         Pomona           California   \n",
      "1  Playa Vista, California, United States    Playa Vista           California   \n",
      "2    Vancouver, Washington, United States      Vancouver           Washington   \n",
      "3                            Tokyo, Japan          Tokyo                  NaN   \n",
      "4                            Tokyo, Japan          Tokyo                  NaN   \n",
      "\n",
      "  Company...Country          Source  \\\n",
      "0     United States  Google Results   \n",
      "1     United States  Google Results   \n",
      "2     United States  Google Results   \n",
      "3             Japan  Google Results   \n",
      "4             Japan  Google Results   \n",
      "\n",
      "                                                Link  Duplicates.note.1   id  \\\n",
      "0  https://www.google.com/shopping/product/104462...                NaN  200   \n",
      "1  https://www.google.com/shopping/product/532655...                NaN  129   \n",
      "2  https://www.google.com/shopping/product/147942...                NaN  284   \n",
      "3  https://www.google.com/shopping/product/393252...                NaN  145   \n",
      "4  https://www.google.com/shopping/product/316195...                NaN  177   \n",
      "\n",
      "                                               Image  \n",
      "0  data:image/jpeg;base64,/9j/4AAQSkZJRgABAQAAAQA...  \n",
      "1  data:image/jpeg;base64,/9j/4AAQSkZJRgABAQAAAQA...  \n",
      "2  data:image/jpeg;base64,/9j/4AAQSkZJRgABAQAAAQA...  \n",
      "3  data:image/jpeg;base64,/9j/4AAQSkZJRgABAQAAAQA...  \n",
      "4  data:image/jpeg;base64,/9j/4AAQSkZJRgABAQAAAQA...  \n"
     ]
    }
   ],
   "source": [
    "import pandas as pd\n",
    "\n",
    "data = pd.read_excel(r\"C:\\Users\\avery\\PycharmProjects\\Data-Portfolio\\wearables.xlsx\")\n",
    "df = pd.DataFrame(data)\n",
    "\n",
    "print(df.head(5))"
   ]
  },
  {
   "cell_type": "code",
   "execution_count": 12,
   "id": "c09570a9",
   "metadata": {},
   "outputs": [
    {
     "name": "stdout",
     "output_type": "stream",
     "text": [
      "Maximum rows before removing: 583\n",
      "Maximum rows after removing: 583\n"
     ]
    }
   ],
   "source": [
    "# import openpyxl library\n",
    "import openpyxl\n",
    "\n",
    "# function to remove empty rows\n",
    "\n",
    "def remove(sheet, row):\n",
    "\t# iterate the row object\n",
    "\tfor cell in row:\n",
    "\t\t# check the value of each cell in\n",
    "\t\t# the row, if any of the value is not\n",
    "\t\t# None return without removing the row\n",
    "\t\tif cell.value != \"shopping\":\n",
    "\t\t\treturn\n",
    "\t# get the row number from the first cell\n",
    "\t# and remove the row\n",
    "\tsheet.delete_rows(row[0].row, 1)\n",
    "\n",
    "\n",
    "if __name__ == '__main__':\n",
    "\n",
    "\t# enter your file path\n",
    "\tpath = r\"C:\\Users\\avery\\PycharmProjects\\Data-Portfolio\\wearables.xlsx\"\n",
    "\n",
    "\t# load excel file\n",
    "\tbook = openpyxl.load_workbook(path)\n",
    "\n",
    "\t# select the sheet\n",
    "\tsheet = book['Wearables-DFE']\n",
    "\n",
    "\tprint(\"Maximum rows before removing:\", sheet.max_row)\n",
    "\n",
    "\t# iterate the sheet object\n",
    "\tfor row in sheet:\n",
    "            remove(sheet,row)\n",
    "\t\t\n",
    "\tprint(\"Maximum rows after removing:\",sheet.max_row)\n",
    "\t\n",
    "\t# save the file to the path\n",
    "\tpath = r\"C:\\Users\\avery\\PycharmProjects\\Data-Portfolio\\wearables updated.xlsx\"\n",
    "\tbook.save(path)\n"
   ]
  },
  {
   "cell_type": "code",
   "execution_count": 13,
   "id": "a5c7d38b",
   "metadata": {},
   "outputs": [
    {
     "name": "stdout",
     "output_type": "stream",
     "text": [
      "Collecting python-datauri\n",
      "  Downloading python_datauri-1.1.0-py2.py3-none-any.whl (5.8 kB)\n",
      "Installing collected packages: python-datauri\n",
      "Successfully installed python-datauri-1.1.0\n",
      "Note: you may need to restart the kernel to use updated packages.\n"
     ]
    }
   ],
   "source": [
    "pip install python-datauri\n"
   ]
  },
  {
   "cell_type": "code",
   "execution_count": null,
   "id": "63f08e61",
   "metadata": {},
   "outputs": [],
   "source": []
  }
 ],
 "metadata": {
  "kernelspec": {
   "display_name": "Python 3 (ipykernel)",
   "language": "python",
   "name": "python3"
  },
  "language_info": {
   "codemirror_mode": {
    "name": "ipython",
    "version": 3
   },
   "file_extension": ".py",
   "mimetype": "text/x-python",
   "name": "python",
   "nbconvert_exporter": "python",
   "pygments_lexer": "ipython3",
   "version": "3.9.13"
  }
 },
 "nbformat": 4,
 "nbformat_minor": 5
}
