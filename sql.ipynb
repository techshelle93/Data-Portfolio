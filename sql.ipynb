{
 "cells": [
  {
   "cell_type": "code",
   "execution_count": 27,
   "id": "8b087abc",
   "metadata": {},
   "outputs": [
    {
     "name": "stdout",
     "output_type": "stream",
     "text": [
      "                 Barcode First Name   Last Name              Address  \\\n",
      "Account Number                                                         \n",
      "189285          *189285*  Jeannette       Avery   5645 Leviathin Way   \n",
      "178285          *178285*   Catherine      Brown    4821 Stairway Dr.   \n",
      "148285          *148285*         Lex     Luther  5728 Horizon Street   \n",
      "189244          *189244*       Harry    Stevens      205 Stately Way   \n",
      "189775          *189775*     Charles  Underhill      7824 Royal Lane   \n",
      "185555          *185555*      Hestia     Murphy          784 Mandora   \n",
      "\n",
      "                       City State  Zip Code         Date Line 1  Invoice   \\\n",
      "Account Number                                                              \n",
      "189285               Albany    GA     30058  1/8/2020-10/9/2021    245.98   \n",
      "178285            Carrolton    GA     30906   1/8/2010-8/9/2017    845.98   \n",
      "148285           Fort Vally    GA     31419   1/8/2008-8/9/2006    353.78   \n",
      "189244          Gainesville    GA     30349  1/8/2007-7/19/2019    500.50   \n",
      "189775              Alameda    CA     98780   1/8/2005-6/9/2007    483.78   \n",
      "185555            Camarillo    CA     95825   1/8/2003-5/9/2004    987.28   \n",
      "\n",
      "                Amount Paid  Amount Owed                   Email  \n",
      "Account Number                                                    \n",
      "189285                24.89       221.09    veryjea892@gmail.com  \n",
      "178285               542.00       303.98       kitty99@gmail.com  \n",
      "148285               183.00       170.78       lexlove@gmail.com  \n",
      "189244               500.50         0.00      pinkstev@gmail.com  \n",
      "189775               405.50        78.28  silenthill56@gmail.com  \n",
      "185555               878.00       109.28    HesMur2820@gmail.com  \n"
     ]
    }
   ],
   "source": [
    "import pandas as pd\n",
    "import pandasql as ps\n",
    "\n",
    "data = pd.read_csv(\"ThriftyAcme Customers.csv\")\n",
    "data = data.set_index(\"Account Number\")\n",
    "print(data)"
   ]
  },
  {
   "cell_type": "code",
   "execution_count": 25,
   "id": "ce8b3edc",
   "metadata": {},
   "outputs": [
    {
     "name": "stdout",
     "output_type": "stream",
     "text": [
      "Collecting pandasql\n",
      "  Downloading pandasql-0.7.3.tar.gz (26 kB)\n",
      "  Preparing metadata (setup.py): started\n",
      "  Preparing metadata (setup.py): finished with status 'done'\n",
      "Requirement already satisfied: numpy in c:\\users\\avery\\anaconda3\\lib\\site-packages (from pandasql) (1.21.5)\n",
      "Requirement already satisfied: pandas in c:\\users\\avery\\anaconda3\\lib\\site-packages (from pandasql) (1.4.4)\n",
      "Requirement already satisfied: sqlalchemy in c:\\users\\avery\\anaconda3\\lib\\site-packages (from pandasql) (1.4.39)\n",
      "Requirement already satisfied: pytz>=2020.1 in c:\\users\\avery\\anaconda3\\lib\\site-packages (from pandas->pandasql) (2022.1)\n",
      "Requirement already satisfied: python-dateutil>=2.8.1 in c:\\users\\avery\\anaconda3\\lib\\site-packages (from pandas->pandasql) (2.8.2)\n",
      "Requirement already satisfied: greenlet!=0.4.17 in c:\\users\\avery\\anaconda3\\lib\\site-packages (from sqlalchemy->pandasql) (1.1.1)\n",
      "Requirement already satisfied: six>=1.5 in c:\\users\\avery\\anaconda3\\lib\\site-packages (from python-dateutil>=2.8.1->pandas->pandasql) (1.16.0)\n",
      "Building wheels for collected packages: pandasql\n",
      "  Building wheel for pandasql (setup.py): started\n",
      "  Building wheel for pandasql (setup.py): finished with status 'done'\n",
      "  Created wheel for pandasql: filename=pandasql-0.7.3-py3-none-any.whl size=26768 sha256=98e147dde1eb5ba4a0c8c14d13f74a590ce744959c5865c827392eb278c110d8\n",
      "  Stored in directory: c:\\users\\avery\\appdata\\local\\pip\\cache\\wheels\\63\\e8\\ec\\75b1df467ecf57b6ececb32cb16f4e86697cbfe55cb0c51f07\n",
      "Successfully built pandasql\n",
      "Installing collected packages: pandasql\n",
      "Successfully installed pandasql-0.7.3\n",
      "Note: you may need to restart the kernel to use updated packages.\n"
     ]
    }
   ],
   "source": [
    "pip install pandasql\n"
   ]
  },
  {
   "cell_type": "code",
   "execution_count": null,
   "id": "d68a855b",
   "metadata": {},
   "outputs": [],
   "source": []
  }
 ],
 "metadata": {
  "kernelspec": {
   "display_name": "Python 3 (ipykernel)",
   "language": "python",
   "name": "python3"
  },
  "language_info": {
   "codemirror_mode": {
    "name": "ipython",
    "version": 3
   },
   "file_extension": ".py",
   "mimetype": "text/x-python",
   "name": "python",
   "nbconvert_exporter": "python",
   "pygments_lexer": "ipython3",
   "version": "3.10.9"
  }
 },
 "nbformat": 4,
 "nbformat_minor": 5
}
