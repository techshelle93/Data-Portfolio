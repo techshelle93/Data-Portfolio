{
 "cells": [
  {
   "cell_type": "code",
   "execution_count": 21,
   "id": "96549a08",
   "metadata": {},
   "outputs": [
    {
     "name": "stdout",
     "output_type": "stream",
     "text": [
      "                         ### Personal information ###\n",
      "0                                             Age: 27\n",
      "1                                    Height (cm): 175\n",
      "2                                     Weight (kg): 80\n",
      "3                                        Gender: male\n",
      "4                                Dominant hand: right\n",
      "5                        ### Study pre-requisites ###\n",
      "6                      Did you drink coffee today? NO\n",
      "7       Did you drink coffee within the last hour? NO\n",
      "8                     Did you do any sports today? NO\n",
      "9                                Are you a smoker? NO\n",
      "10             Did you smoke within the last hour? NO\n",
      "11                          Do you feel ill today? NO\n",
      "12                           ### Additional notes ###\n",
      "13  The RespiBAN temperature sensor was not fully ...\n"
     ]
    }
   ],
   "source": [
    "import pandas as pd\n",
    "\n",
    "data = pd.read_csv(r\"C:\\Users\\avery\\Experiments\\survey_results\\S2_readme.txt\")\n",
    "print(data)"
   ]
  },
  {
   "cell_type": "code",
   "execution_count": 22,
   "id": "29211322",
   "metadata": {},
   "outputs": [
    {
     "name": "stdout",
     "output_type": "stream",
     "text": [
      "Requirement already satisfied: openpyxl in c:\\users\\avery\\anaconda3\\lib\\site-packages (3.0.10)\n",
      "Requirement already satisfied: et_xmlfile in c:\\users\\avery\\anaconda3\\lib\\site-packages (from openpyxl) (1.1.0)\n",
      "Note: you may need to restart the kernel to use updated packages.\n"
     ]
    }
   ],
   "source": [
    "pip install openpyxl\n"
   ]
  },
  {
   "cell_type": "code",
   "execution_count": 26,
   "id": "621edb6c",
   "metadata": {},
   "outputs": [],
   "source": [
    "import openpyxl\n",
    "\n",
    "#Create a new excel workbook\n",
    "workbook = openpyxl.Workbook()\n",
    "\n",
    "#List of .txt files to read\n",
    "txt_files = ['S2_readme.txt', 'S3_readme.txt', 'S4_readme.txt', 'S5_readme.txt','S6_readme.txt', 'S7_readme.txt', 'S8_readme.txt', 'S9_readme.txt', 'S10_readme.txt', 'S11_readme.txt', 'S13_readme.txt', 'S14_readme.txt', 'S15_readme.txt', 'S16_readme.txt','S17_readme.txt']\n",
    "\n",
    "# Loop through the list of .txt files\n",
    "for file in txt_files:\n",
    "    # Create a new sheet in the workbook\n",
    "    sheet = workbook.create_sheet(title=file)\n",
    "    with open(file, \"r\") as f:\n",
    "        # Read the data from the .txt file\n",
    "        data = f.readlines()\n",
    "        # Write the data to the sheet\n",
    "        for i, row in enumerate(data):\n",
    "            for j, col in enumerate(row.split(\"\\n\")):\n",
    "                sheet.cell(row=i+1, column=j+1).value = col\n",
    "\n",
    "# Save the workbook to a file\n",
    "workbook.save(\"test_S2.xlsx\")\n"
   ]
  },
  {
   "cell_type": "code",
   "execution_count": 2,
   "id": "c81e04eb",
   "metadata": {},
   "outputs": [],
   "source": [
    "import openpyxl\n",
    "\n",
    "#Create a new excel workbook\n",
    "workbook = openpyxl.Workbook()\n",
    "\n",
    "#List of .txt files to readS04_HR.csv\n",
    "txt_files = ['S02_HR.csv', 'S03_HR.csv', 'S04_HR.csv', 'S05_HR.csv','S06_HR.csv', 'S07_HR.csv', 'S08_HR.csv', 'S09_HR.csv', 'S10_HR.csv', 'S11_HR.csv', 'S13_HR.csv', 'S14_HR.csv', 'S15_HR.csv', 'S16_HR.csv','S17_HR.csv']\n",
    "\n",
    "# Loop through the list of .txt files\n",
    "for file in txt_files:\n",
    "    # Create a new sheet in the workbook\n",
    "    sheet = workbook.create_sheet(title=file)\n",
    "    with open(file, \"r\") as f:\n",
    "        # Read the data from the .txt file\n",
    "        data = f.readlines()\n",
    "        # Write the data to the sheet\n",
    "        for i, row in enumerate(data):\n",
    "            for j, col in enumerate(row.split(\"\\n\")):\n",
    "                sheet.cell(row=i+1, column=j+1).value = col\n",
    "\n",
    "# Save the workbook to a file\n",
    "workbook.save(\"Heart Rates.xlsx\")\n"
   ]
  },
  {
   "cell_type": "code",
   "execution_count": null,
   "id": "f5066149",
   "metadata": {},
   "outputs": [],
   "source": [
    "import openpyxl\n",
    "\n",
    "#Create a new excel workbook\n",
    "workbook = openpyxl.Workbook()\n",
    "\n",
    "#List of .txt files to readS04_HR.csv\n",
    "txt_files = ['S02_temp.csv', 'S03_temp.csv', 'S04_temp.csv', 'S05_temp.csv','S06_temp.csv', 'S07_temp.csv', 'S08_temp.csv', 'S09_temp.csv', 'S10_temp.csv', 'S11_temp.csv', 'S13_temp.csv', 'S14_temp.csv', 'S15_temp.csv', 'S16_temp.csv','S17_temp.csv']\n",
    "\n",
    "# Loop through the list of .txt files\n",
    "for file in txt_files:\n",
    "    # Create a new sheet in the workbook\n",
    "    sheet = workbook.create_sheet(title=file)\n",
    "    with open(file, \"r\") as f:\n",
    "        # Read the data from the .txt file\n",
    "        data = f.readlines()\n",
    "        # Write the data to the sheet\n",
    "        for i, row in enumerate(data):\n",
    "            for j, col in enumerate(row.split(\"\\n\")):\n",
    "                sheet.cell(row=i+1, column=j+1).value = col\n",
    "\n",
    "# Save the workbook to a file\n",
    "workbook.save(\"Temp Rates.xlsx\")"
   ]
  }
 ],
 "metadata": {
  "kernelspec": {
   "display_name": "Python 3 (ipykernel)",
   "language": "python",
   "name": "python3"
  },
  "language_info": {
   "codemirror_mode": {
    "name": "ipython",
    "version": 3
   },
   "file_extension": ".py",
   "mimetype": "text/x-python",
   "name": "python",
   "nbconvert_exporter": "python",
   "pygments_lexer": "ipython3",
   "version": "3.10.9"
  }
 },
 "nbformat": 4,
 "nbformat_minor": 5
}
