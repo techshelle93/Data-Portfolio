{
 "cells": [
  {
   "cell_type": "code",
   "execution_count": 41,
   "id": "e0a37da5",
   "metadata": {},
   "outputs": [
    {
     "name": "stdout",
     "output_type": "stream",
     "text": [
      "1 2 3 4 5 6 7 8 9 10 "
     ]
    }
   ],
   "source": [
    "for n in range(1, 11):\n",
    "    if n == 11: \n",
    "        print (n)\n",
    "    else:\n",
    "        print(n,end=\" \")"
   ]
  },
  {
   "cell_type": "code",
   "execution_count": null,
   "id": "b34c74e8",
   "metadata": {},
   "outputs": [],
   "source": [
    "x = 1\n",
    "n = 10\n",
    "\n",
    "while x <= n:\n",
    "    print(x)\n",
    "    x = x + 1"
   ]
  },
  {
   "cell_type": "code",
   "execution_count": null,
   "id": "799b83aa",
   "metadata": {},
   "outputs": [],
   "source": [
    "names = \"Betty\", \"Chad\", \"David\"\n",
    "for x in names:\n",
    "    print(x)   "
   ]
  },
  {
   "cell_type": "code",
   "execution_count": null,
   "id": "1e7d3020",
   "metadata": {},
   "outputs": [],
   "source": []
  },
  {
   "cell_type": "code",
   "execution_count": null,
   "id": "50d64050",
   "metadata": {},
   "outputs": [],
   "source": []
  }
 ],
 "metadata": {
  "kernelspec": {
   "display_name": "Python 3 (ipykernel)",
   "language": "python",
   "name": "python3"
  },
  "language_info": {
   "codemirror_mode": {
    "name": "ipython",
    "version": 3
   },
   "file_extension": ".py",
   "mimetype": "text/x-python",
   "name": "python",
   "nbconvert_exporter": "python",
   "pygments_lexer": "ipython3",
   "version": "3.9.13"
  }
 },
 "nbformat": 4,
 "nbformat_minor": 5
}
