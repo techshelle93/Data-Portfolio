{
 "cells": [
  {
   "cell_type": "code",
   "execution_count": 1,
   "id": "62bab5bd",
   "metadata": {},
   "outputs": [
    {
     "name": "stdout",
     "output_type": "stream",
     "text": [
      "Chad\n",
      "Jeannette\n",
      "Charles\n",
      "Stone Cold Luke\n",
      "Janene\n"
     ]
    }
   ],
   "source": [
    "students = \"Chad\", \"Jeannette\", \"Charles\", \"Stone Cold Luke\", \"Janene\"\n",
    "for x in students:\n",
    "    print(x)\n"
   ]
  },
  {
   "cell_type": "code",
   "execution_count": 2,
   "id": "93ccd02c",
   "metadata": {},
   "outputs": [
    {
     "name": "stdout",
     "output_type": "stream",
     "text": [
      "Watermelon\n",
      "2\n"
     ]
    }
   ],
   "source": [
    "class Fruit:\n",
    "    def __init__(self, produce, count):\n",
    "        self.produce = produce\n",
    "        self.count = count\n",
    "        \n",
    "favorite = Fruit(\"Watermelon\", 2)\n",
    "\n",
    "print(favorite.produce)\n",
    "print(favorite.count)"
   ]
  },
  {
   "cell_type": "code",
   "execution_count": 4,
   "id": "ab9e0e91",
   "metadata": {},
   "outputs": [
    {
     "name": "stdout",
     "output_type": "stream",
     "text": [
      "Stone Cold Luke is my GUY!\n",
      "My guy's shoe size is 13\n",
      "Size 13 is a big shoe!\n"
     ]
    }
   ],
   "source": [
    "class Husband:\n",
    "    def __init__(self, name, size):\n",
    "        self.name = name\n",
    "        self.size = size\n",
    "        \n",
    "my_guy = Husband(\"Stone Cold Luke\", 13)\n",
    "\n",
    "print(my_guy.name, \"is my GUY!\")\n",
    "print(\"My guy's shoe size is\", (my_guy.size))\n",
    "print(\"Size\", (my_guy.size), \"is a big shoe!\")"
   ]
  },
  {
   "cell_type": "code",
   "execution_count": null,
   "id": "0441a319",
   "metadata": {},
   "outputs": [],
   "source": []
  }
 ],
 "metadata": {
  "kernelspec": {
   "display_name": "Python 3 (ipykernel)",
   "language": "python",
   "name": "python3"
  },
  "language_info": {
   "codemirror_mode": {
    "name": "ipython",
    "version": 3
   },
   "file_extension": ".py",
   "mimetype": "text/x-python",
   "name": "python",
   "nbconvert_exporter": "python",
   "pygments_lexer": "ipython3",
   "version": "3.10.9"
  }
 },
 "nbformat": 4,
 "nbformat_minor": 5
}
